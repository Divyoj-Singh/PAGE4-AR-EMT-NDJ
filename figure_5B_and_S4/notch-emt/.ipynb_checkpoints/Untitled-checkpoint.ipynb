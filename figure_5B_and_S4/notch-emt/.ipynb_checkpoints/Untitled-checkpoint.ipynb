{
 "cells": [
  {
   "cell_type": "code",
   "execution_count": null,
   "metadata": {},
   "outputs": [],
   "source": [
    "import auxilary_functions as aux\n",
    "from PyDSTool import *\n",
    "\n",
    "%load_ext autoreload\n",
    "%autoreload 2\n",
    "%matplotlib inline\n",
    "\n",
    "DSargs          = args(name='Notch_EMT_1cell', checklevel=2)\n",
    "DSargs.pars     = aux.parameters(onecell=True)\n",
    "DSargs.varspecs = aux.equations(onecell=True)\n",
    "DSargs.fnspecs  = aux.functions()\n",
    "DSargs.ics      = {'W': 20000.0, 'Z': 40000.0,'Y': 20000.0,'S': 200000.0\n",
    "                  ,'N':  0.0e+0, 'D': 0.0e+0, 'J': 0.0e+0, 'I': 20.0e+0\n",
    "                  }\n",
    "DSargs.xdomain  = {'W': [0, 5.0e+4],'Z': [0, 5.0e+6],'Y': [0, 5.0e+4],'S': [0, 5.0e+5]\n",
    "                  ,'N': [0, 5.0e+5],'D': [0, 5.0e+5],'J': [0, 5.0e+5],'I': [0, 5.0e+5]\n",
    "                  }\n",
    "DSargs.pdomain  = {'Dt': [-0.1e+0, 1.0e+3],'Jt': [-0.1e+0, 1.1e+4],'It': [-0.1e+0, 3.0e+3]\n",
    "                  }\n",
    "DSargs.tdomain  = [0., 100.0]\n",
    "DSargs.algparams= {'init_step':1.0e-1}\n",
    "ODE = Vode_ODEsystem(DSargs)"
   ]
  }
 ],
 "metadata": {
  "kernelspec": {
   "display_name": "Python [conda env:python27]",
   "language": "python",
   "name": "conda-env-python27-py"
  },
  "language_info": {
   "codemirror_mode": {
    "name": "ipython",
    "version": 2
   },
   "file_extension": ".py",
   "mimetype": "text/x-python",
   "name": "python",
   "nbconvert_exporter": "python",
   "pygments_lexer": "ipython2",
   "version": "2.7.15"
  }
 },
 "nbformat": 4,
 "nbformat_minor": 4
}
